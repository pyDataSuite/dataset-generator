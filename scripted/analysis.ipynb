{
 "cells": [
  {
   "cell_type": "code",
   "execution_count": 4,
   "metadata": {},
   "outputs": [
    {
     "name": "stdout",
     "output_type": "stream",
     "text": [
      "[Errno 2] No such file or directory: 'dataset-generator'\n",
      "/home/joey/Documents/Projects/pyDataSuite/dataset-generator\n",
      "Cargo.lock  dataset.hdf5  generator.rs\tREADME.md\n",
      "Cargo.toml  generator.py  LICENSE\ttarget\n"
     ]
    }
   ],
   "source": [
    "%cd dataset-generator\n",
    "!ls"
   ]
  },
  {
   "cell_type": "code",
   "execution_count": 13,
   "metadata": {},
   "outputs": [
    {
     "name": "stdout",
     "output_type": "stream",
     "text": [
      "['RAM', 'measurements_remaining', 'measurements_taken', 'system_time', 'time_elapsed']\n",
      "{'SystemName': array([ 68, 101,  98, 105,  97, 110,  32,  71,  78,  85,  47,  76, 105,\n",
      "       110, 117, 120], dtype=uint8), 'KernelVersion': array([ 53,  46,  52,  46,  48,  45,  49,  51,  49,  45, 103, 101, 110,\n",
      "       101, 114, 105,  99], dtype=uint8), 'OsVersion': array([49, 49], dtype=uint8), 'HostName': array([112, 121,  68,  97, 116,  97,  83, 117, 105, 116, 101], dtype=uint8)}\n"
     ]
    }
   ],
   "source": [
    "import h5py\n",
    "\n",
    "try:\n",
    "    file.close()\n",
    "except:\n",
    "    pass\n",
    "file = h5py.File( \"../dataset.hdf5\", \"r\" )\n",
    "\n",
    "print( list( file.keys() ) )\n",
    "print( dict( file.attrs.items() ) )"
   ]
  },
  {
   "cell_type": "code",
   "execution_count": 14,
   "metadata": {},
   "outputs": [
    {
     "name": "stdout",
     "output_type": "stream",
     "text": [
      "201\n",
      "[1997 1997 1997 1997 1997 1997 1997 1997 1997 1997 1997 1997 1997 1997 1997\n",
      " 1997 1997 1997 1997 1997 1997 1997 1997 1997 1997 1997 1997 1997 1997 1997\n",
      " 1997 1997 1997 1997 1997 1997 1997 1997 1997 1997 1997 1997 1997 1997 1997\n",
      " 1997 1997 1997 1997 1997 1997 1997 1997 1997 1997 1997 1997 1997 1997 1997\n",
      " 1997 1997 1997 1997 1997 1997 1997 1997 1997 1997 1997 1997 1997 1997 1997\n",
      " 1997 1997 1997 1997 1997 1997 1997 1997 1997 1997 1997 1997 1997 1997 1997\n",
      " 1997 1997 1997 1997 1997 1997 1997 1997 1997 1997 1997 1997 1997 1997 1997\n",
      " 1997 1997 1997 1997 1997 1997 1997 1997 1997 1997 1997 1997 1997 1997 1997\n",
      " 1997 1997 1997 1997 1997 1997 1997 1997 1997 1997 1997 1997 1997 1997 1997\n",
      " 1997 1997 1997 1997 1997 1997 1997 1997 1997 1997 1997 1997 1997 1997 1997\n",
      " 1997 1997 1997 1997 1997 1997 1997 1997 1997 1997 1997 1997 1997 1997 1997\n",
      " 1997 1997 1997 1997 1997 1997 1997 1997 1997 1997 1997 1997 1997 1997 1997\n",
      " 1997 1997 1997 1997 1997 1997 1997 1997 1997 1997 1997 1997 1997 1997 1997\n",
      " 1997 1997 1997 1997 1997    0]\n"
     ]
    }
   ],
   "source": [
    "a = file[\"RAM\"][\"system_time\"][:201]\n",
    "print( len(a) )\n",
    "print( a )"
   ]
  },
  {
   "cell_type": "code",
   "execution_count": 4,
   "metadata": {},
   "outputs": [
    {
     "data": {
      "image/png": "[encoded data removed]",
      "text/plain": [
       "<matplotlib.figure.Figure at 0x7f9eca8067b8>"
      ]
     },
     "metadata": {},
     "output_type": "display_data"
    }
   ],
   "source": [
    "import matplotlib.pyplot as plt\n",
    "plt.plot( file[\"RAM\"][\"total_memory\"][:200] )\n",
    "plt.show()"
   ]
  },
  {
   "cell_type": "code",
   "execution_count": 22,
   "metadata": {},
   "outputs": [],
   "source": [
    "file.close()"
   ]
  },
  {
   "cell_type": "code",
   "execution_count": null,
   "metadata": {},
   "outputs": [],
   "source": []
  }
 ],
 "metadata": {
  "kernelspec": {
   "display_name": "base",
   "language": "python",
   "name": "python3"
  },
  "language_info": {
   "codemirror_mode": {
    "name": "ipython",
    "version": 3
   },
   "file_extension": ".py",
   "mimetype": "text/x-python",
   "name": "python",
   "nbconvert_exporter": "python",
   "pygments_lexer": "ipython3",
   "version": "3.6.1"
  },
  "orig_nbformat": 4,
  "vscode": {
   "interpreter": {
    "hash": "eb5b8ce5f619f9a0dbadd29041b3333b5b190cf93f0eef1091f3c1650edd19a1"
   }
  }
 },
 "nbformat": 4,
 "nbformat_minor": 2
}
