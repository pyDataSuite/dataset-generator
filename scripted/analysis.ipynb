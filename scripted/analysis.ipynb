{
 "cells": [
  {
   "cell_type": "code",
   "execution_count": 4,
   "metadata": {},
   "outputs": [
    {
     "name": "stdout",
     "output_type": "stream",
     "text": [
      "[Errno 2] No such file or directory: 'dataset-generator'\n",
      "/home/joey/Documents/Projects/pyDataSuite/dataset-generator\n",
      "Cargo.lock  dataset.hdf5  generator.rs\tREADME.md\n",
      "Cargo.toml  generator.py  LICENSE\ttarget\n"
     ]
    }
   ],
   "source": [
    "%cd dataset-generator\n",
    "!ls"
   ]
  },
  {
   "cell_type": "code",
   "execution_count": 2,
   "metadata": {},
   "outputs": [
    {
     "name": "stdout",
     "output_type": "stream",
     "text": [
      "['CPU', 'DISK', 'GPU', 'RAM', 'measurements_remaining', 'measurements_taken', 'system_time', 'time_elapsed']\n",
      "{'SystemName': array([ 77,  97, 110, 106,  97, 114, 111,  32,  76, 105, 110, 117, 120], dtype=uint8), 'KernelVersion': array([53, 46, 49, 53, 46, 56, 52, 45, 49, 45, 77, 65, 78, 74, 65, 82, 79], dtype=uint8), 'OsVersion': array([50, 50, 46, 48, 46, 48], dtype=uint8), 'HostName': array([ 84, 105, 116,  97, 110,  73], dtype=uint8)}\n"
     ]
    }
   ],
   "source": [
    "import h5py\n",
    "\n",
    "try:\n",
    "    file.close()\n",
    "except:\n",
    "    pass\n",
    "file = h5py.File( \"../dataset.hdf5\", \"r\" )\n",
    "\n",
    "print( list( file.keys() ) )\n",
    "print( dict( file.attrs.items() ) )"
   ]
  },
  {
   "cell_type": "code",
   "execution_count": 4,
   "metadata": {},
   "outputs": [
    {
     "data": {
      "text/plain": [
       "['coretemp_Core_0',\n",
       " 'coretemp_Core_1',\n",
       " 'coretemp_Core_2',\n",
       " 'coretemp_Core_3',\n",
       " 'coretemp_Core_4',\n",
       " 'coretemp_Core_5',\n",
       " 'coretemp_Core_6',\n",
       " 'coretemp_Core_7',\n",
       " 'coretemp_Core_8',\n",
       " 'coretemp_Core_9',\n",
       " 'coretemp_Package_id_0',\n",
       " 'cpu0_frequency',\n",
       " 'cpu0_usage',\n",
       " 'cpu10_frequency',\n",
       " 'cpu10_usage',\n",
       " 'cpu11_frequency',\n",
       " 'cpu11_usage',\n",
       " 'cpu12_frequency',\n",
       " 'cpu12_usage',\n",
       " 'cpu13_frequency',\n",
       " 'cpu13_usage',\n",
       " 'cpu14_frequency',\n",
       " 'cpu14_usage',\n",
       " 'cpu15_frequency',\n",
       " 'cpu15_usage',\n",
       " 'cpu16_frequency',\n",
       " 'cpu16_usage',\n",
       " 'cpu17_frequency',\n",
       " 'cpu17_usage',\n",
       " 'cpu18_frequency',\n",
       " 'cpu18_usage',\n",
       " 'cpu19_frequency',\n",
       " 'cpu19_usage',\n",
       " 'cpu1_frequency',\n",
       " 'cpu1_usage',\n",
       " 'cpu2_frequency',\n",
       " 'cpu2_usage',\n",
       " 'cpu3_frequency',\n",
       " 'cpu3_usage',\n",
       " 'cpu4_frequency',\n",
       " 'cpu4_usage',\n",
       " 'cpu5_frequency',\n",
       " 'cpu5_usage',\n",
       " 'cpu6_frequency',\n",
       " 'cpu6_usage',\n",
       " 'cpu7_frequency',\n",
       " 'cpu7_usage',\n",
       " 'cpu8_frequency',\n",
       " 'cpu8_usage',\n",
       " 'cpu9_frequency',\n",
       " 'cpu9_usage',\n",
       " 'system_time']"
      ]
     },
     "execution_count": 4,
     "metadata": {},
     "output_type": "execute_result"
    }
   ],
   "source": [
    "list( file[\"/CPU\"].keys() )"
   ]
  },
  {
   "cell_type": "code",
   "execution_count": 9,
   "metadata": {},
   "outputs": [
    {
     "data": {
      "text/plain": [
       "array([4890, 4890, 4890, 4890, 4890, 4890, 4890, 4890, 4890, 4890, 4890,\n",
       "       4890, 4890, 4890, 4890, 4890, 4890, 4890, 4890, 4890, 4890, 4890,\n",
       "       4890, 4890, 4890, 4890, 4890, 4890, 4890, 4890, 4890, 4890, 4890,\n",
       "       4890, 4890, 4890, 4890, 4890, 4890, 4890, 4890, 4890, 4890, 4890,\n",
       "       4890, 4890, 4890, 4890, 4890, 4890, 4890, 4890, 4890, 4890, 4890,\n",
       "       4890, 4890, 4890, 4890, 4890, 4890, 4890, 4890, 4890, 4890, 4890,\n",
       "       4890, 4890, 4890, 4890, 4890, 4890, 4890, 4890, 4890, 4890, 4890,\n",
       "       4890, 4890, 4890, 4890, 4890, 4890, 4890, 4890, 4890, 4890, 4890,\n",
       "       4890, 4890, 4890, 4890, 4890, 4890, 4890, 4890, 4890, 4890, 4890,\n",
       "       4890, 4890, 4890, 4890, 4890, 4890, 4890, 4890, 4890, 4890, 4890,\n",
       "       4890, 4890, 4890, 4890, 4890, 4890, 4890, 4890, 4890, 4890, 4890,\n",
       "       4890, 4890, 4890, 4890, 4890, 4890, 4890, 4890, 4890, 4890, 4890,\n",
       "       4890, 4890, 4890, 4890, 4890, 4890, 4890, 4890, 4890, 4890, 4890,\n",
       "       4890, 4890, 4890, 4890, 4890, 4890, 4890, 4890, 4890, 4890, 4890,\n",
       "       4890, 4890, 4890, 4890, 4890, 4890, 4890, 4890, 4890, 4890, 4890,\n",
       "       4890, 4890, 4890, 4890, 4890, 4890, 4890, 4890, 4890, 4890, 4890,\n",
       "       4890, 4890, 4890, 4890, 4890, 4890, 4890, 4890, 4890, 4890, 4890,\n",
       "       4890, 4890, 4890, 4890, 4890, 4890, 4890, 4890, 4890, 4890, 4890,\n",
       "       4890,    0,    0,    0,    0,    0,    0,    0,    0,    0,    0,\n",
       "          0,    0,    0,    0,    0,    0,    0,    0,    0,    0,    0,\n",
       "          0,    0,    0,    0,    0,    0,    0,    0,    0,    0,    0,\n",
       "          0,    0,    0,    0,    0,    0,    0,    0,    0,    0,    0,\n",
       "          0,    0,    0,    0,    0,    0,    0,    0,    0,    0,    0,\n",
       "          0,    0,    0,    0,    0,    0,    0,    0,    0,    0,    0,\n",
       "          0,    0,    0,    0,    0,    0,    0,    0,    0,    0,    0,\n",
       "          0,    0,    0,    0,    0,    0,    0,    0,    0,    0,    0,\n",
       "          0,    0,    0,    0,    0,    0,    0,    0,    0,    0,    0,\n",
       "          0,    0,    0], dtype=uint64)"
      ]
     },
     "execution_count": 9,
     "metadata": {},
     "output_type": "execute_result"
    }
   ],
   "source": [
    "file[\"CPU\"][\"cpu1_frequency\"][:300]"
   ]
  },
  {
   "cell_type": "code",
   "execution_count": 6,
   "metadata": {},
   "outputs": [
    {
     "data": {
      "image/png": "[encoded data removed]",
      "text/plain": [
       "<matplotlib.figure.Figure at 0x7f3b146e7f28>"
      ]
     },
     "metadata": {},
     "output_type": "display_data"
    }
   ],
   "source": [
    "import matplotlib.pyplot as plt\n",
    "plt.plot( file[\"CPU\"][\"coretemp_Core_2\"][:, :300] )\n",
    "plt.show()"
   ]
  },
  {
   "cell_type": "code",
   "execution_count": 13,
   "metadata": {},
   "outputs": [],
   "source": [
    "file.close()"
   ]
  },
  {
   "cell_type": "code",
   "execution_count": null,
   "metadata": {},
   "outputs": [],
   "source": []
  }
 ],
 "metadata": {
  "kernelspec": {
   "display_name": "Python 3.6.1 64-bit ('anaconda3')",
   "language": "python",
   "name": "python3"
  },
  "language_info": {
   "codemirror_mode": {
    "name": "ipython",
    "version": 3
   },
   "file_extension": ".py",
   "mimetype": "text/x-python",
   "name": "python",
   "nbconvert_exporter": "python",
   "pygments_lexer": "ipython3",
   "version": "3.6.1"
  },
  "orig_nbformat": 4,
  "vscode": {
   "interpreter": {
    "hash": "d65c781512a5cc68c040fac666211f75fc9e95f8a39e20bcb56f3e98dbd5a69f"
   }
  }
 },
 "nbformat": 4,
 "nbformat_minor": 2
}
